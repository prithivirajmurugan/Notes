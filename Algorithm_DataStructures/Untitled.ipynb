{
 "cells": [
  {
   "cell_type": "code",
   "execution_count": 7,
   "metadata": {},
   "outputs": [
    {
     "name": "stdout",
     "output_type": "stream",
     "text": [
      "Target found:  None\n",
      "Target found:  6\n"
     ]
    }
   ],
   "source": [
    "def recursive_binary_search(list,low,high,target):\n",
    "    if low >= high:\n",
    "        return None\n",
    "    else:\n",
    "        midpoint = (low + high) // 2\n",
    "\n",
    "        if list[midpoint] == target:\n",
    "            return midpoint\n",
    "        else:\n",
    "            if list[midpoint] > target:\n",
    "                return recursive_binary_search(list,low,midpoint-1,target)\n",
    "            else:\n",
    "                return recursive_binary_search(list,midpoint+1,high,target)\n",
    "\n",
    "\n",
    "def verify(result):\n",
    "    print(\"Target found: \", result)\n",
    "\n",
    "\n",
    "numbers = [1, 2, 3, 4, 5, 6, 7, 8, 9, 10]\n",
    "\n",
    "result = recursive_binary_search(numbers,0,len(numbers),12)\n",
    "verify(result)\n",
    "\n",
    "result = recursive_binary_search(numbers,0,len(numbers),7)\n",
    "verify(result)"
   ]
  },
  {
   "cell_type": "code",
   "execution_count": null,
   "metadata": {},
   "outputs": [],
   "source": []
  }
 ],
 "metadata": {
  "kernelspec": {
   "display_name": "Python 3",
   "language": "python",
   "name": "python3"
  },
  "language_info": {
   "codemirror_mode": {
    "name": "ipython",
    "version": 3
   },
   "file_extension": ".py",
   "mimetype": "text/x-python",
   "name": "python",
   "nbconvert_exporter": "python",
   "pygments_lexer": "ipython3",
   "version": "3.8.5"
  },
  "toc": {
   "base_numbering": 1,
   "nav_menu": {},
   "number_sections": true,
   "sideBar": true,
   "skip_h1_title": false,
   "title_cell": "Table of Contents",
   "title_sidebar": "Contents",
   "toc_cell": false,
   "toc_position": {},
   "toc_section_display": true,
   "toc_window_display": false
  }
 },
 "nbformat": 4,
 "nbformat_minor": 4
}
